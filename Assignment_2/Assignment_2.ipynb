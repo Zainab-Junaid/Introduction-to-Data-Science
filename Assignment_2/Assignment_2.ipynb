{
 "cells": [
  {
   "cell_type": "code",
   "execution_count": 148,
   "id": "10f7a5a3-a81c-4fac-8a98-b65571f27441",
   "metadata": {
    "scrolled": true
   },
   "outputs": [
    {
     "name": "stdout",
     "output_type": "stream",
     "text": [
      "['Alice', 'Bob', 'Eve', 'John', 'Peggy', 'Bob']\n",
      "[(7, 'John', 55, 'USA'), (10, 'Bob', 50, 'USA'), (3, 'Bob', 45, 'USA'), (9, 'Peggy', 40, 'Canada'), (6, 'Eve', 35, 'Canada'), (2, 'Alice', 32, 'Canada'), (4, 'Charlie', 31, 'UK'), (5, 'Diana', 29, 'USA'), (8, 'Mallory', 25, 'Australia'), (1, 'John', 8, 'USA')]\n",
      "{'Bob', 'John'}\n"
     ]
    }
   ],
   "source": [
    "from collections import Counter\n",
    "user_data = [\n",
    "    (1, \"John\", 8, \"USA\"),\n",
    "    (2, \"Alice\", 32, \"Canada\"),\n",
    "    (3, \"Bob\", 45, \"USA\"),\n",
    "    (4, \"Zainab\", 31, \"UK\"),\n",
    "    (5, \"Diana\", 29, \"USA\"),\n",
    "    (6, \"Eve\", 35, \"Canada\"),\n",
    "    (7, \"Zainab\", 55, \"USA\"),\n",
    "    (8, \"Mallory\", 25, \"Australia\"),\n",
    "    (9, \"Peggy\", 40, \"Canada\"),\n",
    "    (10, \"Bob\", 50, \"USA\"),\n",
    "    (11, \"Zainab\", 28, \"Pakistan\"),\n",
    "    (12, \"Ahmed\", 34, \"India\"),\n",
    "    (13, \"Noah\", 30, \"USA\"),\n",
    "    (14, \"Mia\", 33, \"Australia\"),\n",
    "    (15, \"Oliver\", 44, \"Canada\"),\n",
    "    (16, \"Sophia\", 27, \"UK\"),\n",
    "    (17, \"Liam\", 38, \"USA\"),\n",
    "    (18, \"Emily\", 24, \"USA\"),\n",
    "    (19, \"Lucas\", 48, \"Canada\"),\n",
    "    (20, \"Ava\", 22, \"Australia\"),\n",
    "]\n",
    "\n",
    "def filter_users(list):\n",
    "    new_list =[]\n",
    "    for i in range(len(list)):\n",
    "        if list[i][2] > 30 and (list[i][3] == 'USA' or list[i][3] == 'Canada'):\n",
    "            new_list.append(list[i][1])\n",
    "    return new_list\n",
    "\n",
    "\n",
    "def sort_users(list):\n",
    "    new_list = sorted(list, key = lambda x :x[2] ,reverse=True)\n",
    "    return new_list[:10]\n",
    "\n",
    "def find_duplicate(user_list):\n",
    "    names = [user[1] for user in user_list]\n",
    "    name_counts = Counter(names)\n",
    "    duplicates = {name for name, count in name_counts.items() if count > 1}\n",
    "    \n",
    "    return duplicates\n",
    "\n",
    "print(filter_users(list))\n",
    "print(sort_users(list))\n",
    "print(find_duplicate(list))"
   ]
  },
  {
   "cell_type": "code",
   "execution_count": 134,
   "id": "57c0decd-c778-4ede-ab5f-d46aaabb8d29",
   "metadata": {},
   "outputs": [
    {
     "data": {
      "text/plain": [
       "([101, 102, 103, 104, 105, 106], [1, 2, 1, 3, 4, 2])"
      ]
     },
     "execution_count": 134,
     "metadata": {},
     "output_type": "execute_result"
    }
   ],
   "source": [
    "transactions_data = [\n",
    "    (101, 1, 200.50, '2024-10-10 10:30:00'),\n",
    "    (102, 2, 150.00, '2024-10-10 11:00:00'),\n",
    "    (103, 1, 300.75, '2024-10-10 12:00:00'),\n",
    "    (104, 3, 400.25, '2024-10-10 12:30:00'),\n",
    "    (105, 4, 250.00, '2024-10-10 13:00:00'),\n",
    "    (106, 2, 550.00, '2024-10-10 14:00:00'),\n",
    "]\n",
    "\n",
    "def unique_users(list):\n",
    "    unique = set()\n",
    "    for transaction in list:\n",
    "        unique.add(transaction[1])\n",
    "    return len(unique)\n",
    "\n",
    "def transaction_with_highest_amount(list):\n",
    "    maxx = max(list, key=lambda x: x[2])\n",
    "    return maxx\n",
    "\n",
    "def separate(transaction_list):\n",
    "    transaction_ids = []\n",
    "    user_ids = []\n",
    "\n",
    "    for transaction in transaction_list:\n",
    "        if len(transaction) >= 4:  \n",
    "            transaction_ids.append(transaction[0])  \n",
    "            user_ids.append(transaction[1]) \n",
    "        else:\n",
    "            print(\"Inconsistent tuple size:\", transaction)\n",
    "    \n",
    "    return transaction_ids, user_ids\n",
    "\n",
    "unique_users(transactions_data)\n",
    "transaction_with_highest_amount(transactions_data)\n",
    "separate(transactions_data)"
   ]
  },
  {
   "cell_type": "code",
   "execution_count": 132,
   "id": "26ef98b9-9854-4df0-b753-fcf7419d0e1e",
   "metadata": {},
   "outputs": [
    {
     "name": "stdout",
     "output_type": "stream",
     "text": [
      "Visited both A and B: {4, 5}\n",
      "Visited either A or C, but not both: {2, 3, 4, 8, 9}\n",
      "Updated Page A: {1, 2, 3, 4, 5, 10, 11}\n",
      "Updated Page B after removal: {5, 7}\n"
     ]
    }
   ],
   "source": [
    "def visited_both_A_and_B(page_a, page_b):\n",
    "    return page_a.intersection(page_b)\n",
    "\n",
    "def visited_either_A_or_C_but_not_both(page_a, page_c):\n",
    "    return page_a.symmetric_difference(page_c)\n",
    "\n",
    "def update_page_A_with_new_users(page_a, new_user_ids):\n",
    "    page_a.update(new_user_ids)\n",
    "    return page_a\n",
    "\n",
    "def remove_users_from_page_B(page_b, user_ids):\n",
    "    for user_id in user_ids:\n",
    "        if user_id in page_b:\n",
    "            page_b.remove(user_id)  \n",
    "    return page_b\n",
    "\n",
    "page_a = {1, 2, 3, 4, 5}\n",
    "page_b = {4, 5, 6, 7}\n",
    "page_c = {1, 5, 8, 9}\n",
    "\n",
    "new_user_ids = {10, 11}\n",
    "user_ids_to_remove = {4, 6}\n",
    "print(\"Visited both A and B:\", visited_both_A_and_B(page_a, page_b))\n",
    "\n",
    "print(\"Visited either A or C, but not both:\", visited_either_A_or_C_but_not_both(page_a, page_c))\n",
    "\n",
    "updated_page_a = update_page_A_with_new_users(page_a, new_user_ids)\n",
    "print(\"Updated Page A:\", updated_page_a)\n",
    "\n",
    "updated_page_b = remove_users_from_page_B(page_b, user_ids_to_remove)\n",
    "print(\"Updated Page B after removal:\", updated_page_b)"
   ]
  },
  {
   "cell_type": "code",
   "execution_count": 130,
   "id": "598cad75-c941-4f81-95b2-aeb9d74b97ca",
   "metadata": {},
   "outputs": [
    {
     "name": "stdout",
     "output_type": "stream",
     "text": [
      "Users with ratings 4 or higher: {1: 5, 2: 4, 5: 4, 7: 5, 9: 4}\n",
      "Top 5 users by rating: {1: {'rating': 5, 'comments': 'Excellent service!'}, 7: {'rating': 5, 'comments': 'Will definitely come back!'}, 2: {'rating': 4, 'comments': 'Very good experience.'}, 5: {'rating': 4, 'comments': 'Good but could improve.'}, 9: {'rating': 4, 'comments': 'Really enjoyed it!'}}\n",
      "Combined feedback: {1: {'rating': 5, 'comments': 'Excellent service!'}, 2: {'rating': 5, 'comments': 'Very good experience. Amazing!'}, 3: {'rating': 3, 'comments': 'It was okay. Not great.'}, 4: {'rating': 2, 'comments': 'Not satisfied.'}, 5: {'rating': 4, 'comments': 'Good but could improve.'}, 6: {'rating': 1, 'comments': 'Terrible experience!'}, 7: {'rating': 5, 'comments': 'Will definitely come back!'}, 8: {'rating': 3, 'comments': 'Average.'}, 9: {'rating': 4, 'comments': 'Really enjoyed it!'}, 10: {'rating': 2, 'comments': 'Disappointed.'}, 11: {'rating': 4, 'comments': 'Loved it!'}}\n",
      "Users with ratings above 3: {1: 5, 2: 5, 5: 4, 7: 5, 9: 4}\n"
     ]
    }
   ],
   "source": [
    "def filter_high_ratings(feedback_dict):\n",
    "    high_ratings = {}\n",
    "    for user_id, feedback in feedback_dict.items():\n",
    "        if feedback['rating'] >= 4:\n",
    "            high_ratings[user_id] = feedback['rating']\n",
    "    return high_ratings\n",
    "    \n",
    "def sort_feedback(feedback_dict):\n",
    "    sorted_feedback = sorted(feedback_dict.items(), key=lambda x: x[1]['rating'], reverse=True)\n",
    "    return dict(sorted_feedback[:5])\n",
    "\n",
    "def combine_feedback(dict1, dict2):\n",
    "    combined = dict1.copy()  \n",
    "    for user_id, feedback in dict2.items():\n",
    "        if user_id in combined:\n",
    "            combined[user_id]['rating'] = max(combined[user_id]['rating'], feedback['rating'])\n",
    "            combined[user_id]['comments'] += \" \" + feedback['comments']\n",
    "        else:\n",
    "            combined[user_id] = feedback\n",
    "    return combined\n",
    "\n",
    "def ratings_above_three(feedback_dict):\n",
    "    ratings = {}\n",
    "    for user_id, feedback in feedback_dict.items():\n",
    "        if feedback['rating'] > 3:\n",
    "            ratings[user_id] = feedback['rating']\n",
    "    return ratings\n",
    "feedback_data = {\n",
    "        1: {'rating': 5, 'comments': 'Excellent service!'},\n",
    "        2: {'rating': 4, 'comments': 'Very good experience.'},\n",
    "        3: {'rating': 3, 'comments': 'It was okay.'},\n",
    "        4: {'rating': 2, 'comments': 'Not satisfied.'},\n",
    "        5: {'rating': 4, 'comments': 'Good but could improve.'},\n",
    "        6: {'rating': 1, 'comments': 'Terrible experience!'},\n",
    "        7: {'rating': 5, 'comments': 'Will definitely come back!'},\n",
    "        8: {'rating': 3, 'comments': 'Average.'},\n",
    "        9: {'rating': 4, 'comments': 'Really enjoyed it!'},\n",
    "        10: {'rating': 2, 'comments': 'Disappointed.'},\n",
    "    }\n",
    "\n",
    "   \n",
    "high_ratings = filter_high_ratings(feedback_data)\n",
    "print(\"Users with ratings 4 or higher:\", high_ratings)\n",
    "\n",
    "top_feedback = sort_feedback(feedback_data)\n",
    "print(\"Top 5 users by rating:\", top_feedback)\n",
    "\n",
    "additional_feedback = {\n",
    "        2: {'rating': 5, 'comments': 'Amazing!'},\n",
    "        3: {'rating': 2, 'comments': 'Not great.'},\n",
    "        11: {'rating': 4, 'comments': 'Loved it!'},\n",
    "    }\n",
    "combined_feedback = combine_feedback(feedback_data, additional_feedback)\n",
    "print(\"Combined feedback:\", combined_feedback)\n",
    "\n",
    "ratings_above_three_dict = ratings_above_three(feedback_data)\n",
    "print(\"Users with ratings above 3:\", ratings_above_three_dict)\n"
   ]
  },
  {
   "cell_type": "code",
   "execution_count": null,
   "id": "a817d41e-1866-4cb9-8845-e51e0542ecbc",
   "metadata": {},
   "outputs": [],
   "source": []
  }
 ],
 "metadata": {
  "kernelspec": {
   "display_name": "Python 3 (ipykernel)",
   "language": "python",
   "name": "python3"
  },
  "language_info": {
   "codemirror_mode": {
    "name": "ipython",
    "version": 3
   },
   "file_extension": ".py",
   "mimetype": "text/x-python",
   "name": "python",
   "nbconvert_exporter": "python",
   "pygments_lexer": "ipython3",
   "version": "3.12.4"
  }
 },
 "nbformat": 4,
 "nbformat_minor": 5
}
