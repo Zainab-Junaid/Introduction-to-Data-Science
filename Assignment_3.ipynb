{
 "cells": [
  {
   "cell_type": "code",
   "execution_count": 27,
   "id": "1b49a009-0240-4d7f-8841-f3275d49c018",
   "metadata": {},
   "outputs": [
    {
     "name": "stdout",
     "output_type": "stream",
     "text": [
      "Task1: Part A\n",
      "[{'customer': 'Alice', 'total': 250.5}, {'customer': 'Charlie', 'total': 450}, {'customer': 'Daisy', 'total': 100.0}]\n",
      "Task1: Part B\n",
      "[{'customer': 'Alice', 'total': 250.5}, {'customer': 'Bob', 'total': 'invalid_data'}, {'customer': 'Charlie', 'total': 405.0}, {'customer': 'Daisy', 'total': 100.0}, {'customer': 'Eve', 'total': -30}]\n",
      "Task1: Part C\n",
      "Total Sales: $725.50\n"
     ]
    }
   ],
   "source": [
    "from functools import reduce\n",
    "orders = [\n",
    "    {\"customer\": \"Alice\", \"total\": 250.5},\n",
    "    {\"customer\": \"Bob\", \"total\": \"invalid_data\"},\n",
    "    {\"customer\": \"Charlie\", \"total\": 450},\n",
    "    {\"customer\": \"Daisy\", \"total\": 100.0},\n",
    "    {\"customer\": \"Eve\", \"total\": -30},  # Invalid total\n",
    "]\n",
    "\n",
    "def process_orders(order_list):\n",
    "    #function to check if the order is valid\n",
    "    def is_valid(order):\n",
    "        try:\n",
    "            # Ensure 'total' is numeric and greater than or equal to 0\n",
    "            total = float(order['total'])  # Try converting to float\n",
    "            return total >= 0\n",
    "        except (ValueError, TypeError):  # Catch invalid or non-numeric data\n",
    "            return False\n",
    "\n",
    "    # Use filter() and lambda to filter valid orders\n",
    "    valid_orders = list(filter(lambda order: is_valid(order), order_list))\n",
    "\n",
    "    # eturn the valid orders\n",
    "    return valid_orders\n",
    "\n",
    "filtered_orders = process_orders(orders)\n",
    "print(\"Task1: Part A\")\n",
    "print(filtered_orders)\n",
    "\n",
    "def apply_discount(order_list):\n",
    "    # Use map() and lambda to apply a 10% discount to orders with total > 300\n",
    "    return list(map(\n",
    "        lambda order: {\n",
    "            **order,\n",
    "            \"total\": float(order[\"total\"]) * 0.9  # Apply discount\n",
    "        } if isinstance(order[\"total\"], (int, float)) and order[\"total\"] > 300 else order,\n",
    "        order_list\n",
    "    ))\n",
    "\n",
    "discounted_orders = apply_discount(orders)\n",
    "print(\"Task1: Part B\")\n",
    "print(discounted_orders)\n",
    "\n",
    "def calculate_total_sales(order_list):\n",
    "    # Filter out orders with valid numeric totals\n",
    "    valid_orders = filter(lambda order: isinstance(order[\"total\"], (int, float)), order_list)\n",
    "    # Use reduce to calculate total sales\n",
    "    total_sales = reduce(lambda acc, order: acc + order[\"total\"], valid_orders, 0)\n",
    "    return total_sales\n",
    "\n",
    "# Calculate total sales from discounted orders\n",
    "total_sales = calculate_total_sales(discounted_orders)\n",
    "\n",
    "print(\"Task1: Part C\")\n",
    "print(f\"Total Sales: ${total_sales:.2f}\")"
   ]
  },
  {
   "cell_type": "code",
   "execution_count": 45,
   "id": "38ecbd1a-b12d-4868-90b2-2686d44828c8",
   "metadata": {},
   "outputs": [
    {
     "name": "stdout",
     "output_type": "stream",
     "text": [
      "Task2:\n",
      "Squares of the first 5 natural numbers:\n",
      "1\n",
      "4\n",
      "9\n",
      "16\n",
      "25\n",
      "\n",
      "Fibonacci numbers up to 10:\n",
      "0\n",
      "1\n",
      "1\n",
      "2\n",
      "3\n",
      "5\n",
      "8\n"
     ]
    }
   ],
   "source": [
    "class SquareIterator:\n",
    "    def __init__(self, n):\n",
    "        self.n = n\n",
    "        self.current = 1  # Start from the first natural number\n",
    "\n",
    "    def __iter__(self):\n",
    "        return self  # Returning the iterator object itself\n",
    "\n",
    "    def __next__(self):\n",
    "        if self.current > self.n:  # Stop iteration when current exceeds n\n",
    "            raise StopIteration\n",
    "        square = self.current ** 2  # Calculate the square\n",
    "        self.current += 1  # Move to the next number\n",
    "        return square  # Return the square\n",
    "    \n",
    "def fibonacci_generator(n):\n",
    "    \"\"\"Generate Fibonacci numbers up to n.\"\"\"\n",
    "    fibonacci_numbers = []  # List to hold Fibonacci numbers\n",
    "    a, b = 0, 1  # Initialize the first two Fibonacci numbers\n",
    "    \n",
    "    while a <= n:  # Continue until the current Fibonacci number exceeds n\n",
    "        fibonacci_numbers.append(a)  # Add the current Fibonacci number to the list\n",
    "        a, b = b, a + b  # Update to the next Fibonacci numbers\n",
    "    \n",
    "    return fibonacci_numbers \n",
    "print(\"Task2:\")\n",
    "n = 5\n",
    "square_iterator = SquareIterator(n)\n",
    "\n",
    "print(f\"Squares of the first {n} natural numbers:\")\n",
    "for square in square_iterator:\n",
    "    print(square)\n",
    "\n",
    "n = 10\n",
    "fibonacci_generator = fibonacci_generator(n)\n",
    "\n",
    "# Using the __iter__ and __next__ methods\n",
    "print(f\"\\nFibonacci numbers up to {n}:\")\n",
    "for fib in fibonacci_generator:\n",
    "    print(fib)"
   ]
  },
  {
   "cell_type": "code",
   "execution_count": 47,
   "id": "ae2292b6-640e-4ee5-b7b5-8fbe08e3bb60",
   "metadata": {},
   "outputs": [
    {
     "name": "stdout",
     "output_type": "stream",
     "text": [
      "ValueError: Divisor cannot be zero.\n"
     ]
    }
   ],
   "source": [
    "def divide_numbers(numbers, divisor):\n",
    "    \n",
    "    if divisor == 0:\n",
    "        raise ValueError(\"Divisor cannot be zero.\")  # Raise a ValueError for zero divisor\n",
    "    \n",
    "    results = []\n",
    "    for num in numbers:\n",
    "        try:\n",
    "            # Attempt to divide the number\n",
    "            result = num / divisor\n",
    "            results.append(result)\n",
    "        except TypeError as e:  # Catch non-numeric input errors\n",
    "            print(f\"Error: Invalid input: {num} is not a number. Original exception: {e}\")\n",
    "        except Exception as e:  # Catch all other exceptions\n",
    "            print(f\"Error: An error occurred while dividing {num} by {divisor}. Original exception: {e}\")\n",
    "    \n",
    "    return results  # Return the results if no exceptions occur\n",
    "\n",
    "# Example Usage\n",
    "print(\"Task 3: Part A\")\n",
    "numbers = [10, 20, 30, 'invalid', 40]  # List containing a non-numeric value\n",
    "divisor = 0  # Testing with a zero divisor\n",
    "\n",
    "try:\n",
    "    results = divide_numbers(numbers, divisor)\n",
    "    print(f\"Results: {results}\")\n",
    "except ValueError as e:\n",
    "    print(f\"ValueError: {e}\")\n"
   ]
  },
  {
   "cell_type": "code",
   "execution_count": null,
   "id": "8c71d276-2674-43de-929e-29992ec902ca",
   "metadata": {},
   "outputs": [],
   "source": []
  }
 ],
 "metadata": {
  "kernelspec": {
   "display_name": "Python 3 (ipykernel)",
   "language": "python",
   "name": "python3"
  },
  "language_info": {
   "codemirror_mode": {
    "name": "ipython",
    "version": 3
   },
   "file_extension": ".py",
   "mimetype": "text/x-python",
   "name": "python",
   "nbconvert_exporter": "python",
   "pygments_lexer": "ipython3",
   "version": "3.12.4"
  }
 },
 "nbformat": 4,
 "nbformat_minor": 5
}
