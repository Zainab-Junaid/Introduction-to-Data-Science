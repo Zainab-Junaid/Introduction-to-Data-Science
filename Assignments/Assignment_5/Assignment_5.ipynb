{
 "cells": [
  {
   "cell_type": "code",
   "execution_count": 145,
   "id": "a7714e4e-6587-472c-a6bf-1b7d8d02d17f",
   "metadata": {},
   "outputs": [
    {
     "name": "stdout",
     "output_type": "stream",
     "text": [
      "   CustomerID  Age         City\n",
      "0           1   22     New York\n",
      "1           2   23  Los Angeles\n",
      "2           3   24      Chicago\n",
      "3           4   25      Houston\n",
      "4           5   26      Phoenix\n",
      "(100, 3)\n",
      "CustomerID    0\n",
      "Age           0\n",
      "City          0\n",
      "dtype: int64\n",
      "There is no missing value\n"
     ]
    }
   ],
   "source": [
    "#Task_1\n",
    "import pandas as pd\n",
    "datacus = pd.read_csv(r'C:\\Users\\hp\\Downloads\\customers.csv')\n",
    "\n",
    "#First few rows\n",
    "print(datacus.head(5))\n",
    "#rows and columns\n",
    "print(datacus.shape)\n",
    "\n",
    "#finding missing values\n",
    "print(datacus.isna().sum())\n",
    "print('There is no missing value')\n"
   ]
  },
  {
   "cell_type": "code",
   "execution_count": 101,
   "id": "18f9adf7-85bd-45e8-a843-1d91a56eea8d",
   "metadata": {},
   "outputs": [
    {
     "name": "stdout",
     "output_type": "stream",
     "text": [
      "<bound method NDFrame.head of      SaleID  CustomerID     Product  Amount\n",
      "0       101           1      Laptop     200\n",
      "1       102           2  Smartphone     500\n",
      "2       103           3      Tablet     800\n",
      "3       104           4  Headphones    1100\n",
      "4       105           5     Monitor    1400\n",
      "..      ...         ...         ...     ...\n",
      "395     496          96      Laptop     200\n",
      "396     497          97  Smartphone     500\n",
      "397     498          98      Tablet     800\n",
      "398     499          99  Headphones    1100\n",
      "399     500         100     Monitor    1400\n",
      "\n",
      "[400 rows x 4 columns]>\n",
      "(400, 4)\n",
      "SaleID        0\n",
      "CustomerID    0\n",
      "Product       0\n",
      "Amount        0\n",
      "dtype: int64\n",
      "There is no missing value\n"
     ]
    }
   ],
   "source": [
    "datasal = pd.read_csv(r'C:\\Users\\hp\\Downloads\\sales.csv')\n",
    "#First few rows\n",
    "print(datasal.head)\n",
    "#rows and columns\n",
    "print(datasal.shape)\n",
    "#missing values count\n",
    "print(datasal.isna().sum())\n",
    "print('There is no missing value')"
   ]
  },
  {
   "cell_type": "code",
   "execution_count": 103,
   "id": "569c7dd4-7590-4d5b-bbc5-e2764588b4ea",
   "metadata": {},
   "outputs": [
    {
     "name": "stdout",
     "output_type": "stream",
     "text": [
      "Filtered customers using dictionary:\n",
      "[{'CustomerID': 1, 'Age': 22, 'City': 'New York'}, {'CustomerID': 6, 'Age': 27, 'City': 'New York'}, {'CustomerID': 11, 'Age': 32, 'City': 'New York'}, {'CustomerID': 16, 'Age': 37, 'City': 'New York'}, {'CustomerID': 21, 'Age': 42, 'City': 'New York'}, {'CustomerID': 26, 'Age': 47, 'City': 'New York'}, {'CustomerID': 31, 'Age': 22, 'City': 'New York'}, {'CustomerID': 36, 'Age': 27, 'City': 'New York'}, {'CustomerID': 41, 'Age': 32, 'City': 'New York'}, {'CustomerID': 46, 'Age': 37, 'City': 'New York'}, {'CustomerID': 51, 'Age': 42, 'City': 'New York'}, {'CustomerID': 56, 'Age': 47, 'City': 'New York'}, {'CustomerID': 61, 'Age': 22, 'City': 'New York'}, {'CustomerID': 66, 'Age': 27, 'City': 'New York'}, {'CustomerID': 71, 'Age': 32, 'City': 'New York'}, {'CustomerID': 76, 'Age': 37, 'City': 'New York'}, {'CustomerID': 81, 'Age': 42, 'City': 'New York'}, {'CustomerID': 86, 'Age': 47, 'City': 'New York'}, {'CustomerID': 91, 'Age': 22, 'City': 'New York'}, {'CustomerID': 96, 'Age': 27, 'City': 'New York'}]\n"
     ]
    }
   ],
   "source": [
    "#Task_2\n",
    "data_dict = datacus.to_dict(orient='records') \n",
    "\n",
    "# Filter customers from a specific city using the dictionary\n",
    "city_to_filter = \"New York\"\n",
    "filtered_customers_dict = [customer for customer in data_dict if customer['City'] == city_to_filter]\n",
    "\n",
    "print(\"Filtered customers using dictionary:\")\n",
    "print(filtered_customers_dict)"
   ]
  },
  {
   "cell_type": "code",
   "execution_count": 105,
   "id": "c6e71d95-9505-4307-8200-f1ddcca98c7d",
   "metadata": {},
   "outputs": [
    {
     "name": "stdout",
     "output_type": "stream",
     "text": [
      "\n",
      "Filtered customers using DataFrame:\n",
      "    CustomerID  Age      City\n",
      "0            1   22  New York\n",
      "5            6   27  New York\n",
      "10          11   32  New York\n",
      "15          16   37  New York\n",
      "20          21   42  New York\n",
      "25          26   47  New York\n",
      "30          31   22  New York\n",
      "35          36   27  New York\n",
      "40          41   32  New York\n",
      "45          46   37  New York\n",
      "50          51   42  New York\n",
      "55          56   47  New York\n",
      "60          61   22  New York\n",
      "65          66   27  New York\n",
      "70          71   32  New York\n",
      "75          76   37  New York\n",
      "80          81   42  New York\n",
      "85          86   47  New York\n",
      "90          91   22  New York\n",
      "95          96   27  New York\n"
     ]
    }
   ],
   "source": [
    "# Filter customers from a specific city using DataFrame\n",
    "filtered_customers_df = datacus[datacus['City'] == city_to_filter]\n",
    "\n",
    "print(\"\\nFiltered customers using DataFrame:\")\n",
    "print(filtered_customers_df)\n"
   ]
  },
  {
   "cell_type": "code",
   "execution_count": 109,
   "id": "2e924ca2-be1a-4e39-983b-bff473077cc9",
   "metadata": {},
   "outputs": [
    {
     "name": "stdout",
     "output_type": "stream",
     "text": [
      "\n",
      "Time taken using dictionary filtering: 0.0\n",
      "Time taken using DataFrame filtering: 0.0019979476928710938\n"
     ]
    }
   ],
   "source": [
    "import time\n",
    "\n",
    "start_dict = time.time()\n",
    "filtered_customers_dict = [customer for customer in data_dict if customer['City'] == city_to_filter]\n",
    "end_dict = time.time()\n",
    "\n",
    "# Measure time for DataFrame filtering\n",
    "start_df = time.time()\n",
    "filtered_customers_df = datacus[datacus['City'] == city_to_filter]\n",
    "end_df = time.time()\n",
    "\n",
    "# Print results\n",
    "print(\"\\nTime taken using dictionary filtering:\", end_dict - start_dict)\n",
    "print(\"Time taken using DataFrame filtering:\", end_df - start_df)\n"
   ]
  },
  {
   "cell_type": "code",
   "execution_count": 115,
   "id": "2cea1421-b32e-4afa-a038-0dad6aa2ff1d",
   "metadata": {},
   "outputs": [
    {
     "name": "stdout",
     "output_type": "stream",
     "text": [
      "Duplicate rows:\n",
      "Empty DataFrame\n",
      "Columns: [CustomerID, Age, City]\n",
      "Index: []\n",
      "\n",
      "Number of duplicate rows: 0\n",
      "\n",
      "Data after removing duplicates:\n",
      "    CustomerID  Age         City\n",
      "0            1   22     New York\n",
      "1            2   23  Los Angeles\n",
      "2            3   24      Chicago\n",
      "3            4   25      Houston\n",
      "4            5   26      Phoenix\n",
      "..         ...  ...          ...\n",
      "95          96   27     New York\n",
      "96          97   28  Los Angeles\n",
      "97          98   29      Chicago\n",
      "98          99   30      Houston\n",
      "99         100   31      Phoenix\n",
      "\n",
      "[100 rows x 3 columns]\n",
      "\n",
      "Number of duplicate rows after cleaning: 0\n"
     ]
    }
   ],
   "source": [
    "#Task_3\n",
    "\n",
    "# Step 1: Identify duplicate rows\n",
    "print(\"Duplicate rows:\")\n",
    "duplicates = datacus[datacus.duplicated()]\n",
    "print(duplicates)\n",
    "\n",
    "# Step 2: Count duplicate rows\n",
    "duplicate_count = datacus.duplicated().sum()\n",
    "print(\"\\nNumber of duplicate rows:\", duplicate_count)\n",
    "\n",
    "# Step 3: Remove duplicate rows\n",
    "df_cleaned = datacus.drop_duplicates()\n",
    "print(\"\\nData after removing duplicates:\")\n",
    "print(df_cleaned)\n",
    "\n",
    "# Step 4: Verify no duplicates remain\n",
    "remaining_duplicates = df_cleaned.duplicated().sum()\n",
    "print(\"\\nNumber of duplicate rows after cleaning:\", remaining_duplicates)\n"
   ]
  },
  {
   "cell_type": "code",
   "execution_count": 119,
   "id": "1c8cb62c-bf4e-41f6-89bc-1590596d049c",
   "metadata": {},
   "outputs": [
    {
     "name": "stdout",
     "output_type": "stream",
     "text": [
      "Duplicate rows:\n",
      "Empty DataFrame\n",
      "Columns: [SaleID, CustomerID, Product, Amount]\n",
      "Index: []\n",
      "\n",
      "Number of duplicate rows: 0\n",
      "\n",
      "Data after removing duplicates:\n",
      "     SaleID  CustomerID     Product  Amount\n",
      "0       101           1      Laptop     200\n",
      "1       102           2  Smartphone     500\n",
      "2       103           3      Tablet     800\n",
      "3       104           4  Headphones    1100\n",
      "4       105           5     Monitor    1400\n",
      "..      ...         ...         ...     ...\n",
      "395     496          96      Laptop     200\n",
      "396     497          97  Smartphone     500\n",
      "397     498          98      Tablet     800\n",
      "398     499          99  Headphones    1100\n",
      "399     500         100     Monitor    1400\n",
      "\n",
      "[400 rows x 4 columns]\n",
      "\n",
      "Number of duplicate rows after cleaning: 0\n"
     ]
    }
   ],
   "source": [
    "# Step 1: Identify duplicate rows\n",
    "print(\"Duplicate rows:\")\n",
    "duplicates = datasal[datasal.duplicated()]\n",
    "print(duplicates)\n",
    "\n",
    "# Step 2: Count duplicate rows\n",
    "duplicate_count = datasal.duplicated().sum()\n",
    "print(\"\\nNumber of duplicate rows:\", duplicate_count)\n",
    "\n",
    "# Step 3: Remove duplicate rows\n",
    "df_cleaned = datasal.drop_duplicates()\n",
    "print(\"\\nData after removing duplicates:\")\n",
    "print(df_cleaned)\n",
    "\n",
    "# Step 4: Verify no duplicates remain\n",
    "remaining_duplicates = df_cleaned.duplicated().sum()\n",
    "print(\"\\nNumber of duplicate rows after cleaning:\", remaining_duplicates)"
   ]
  },
  {
   "cell_type": "code",
   "execution_count": 123,
   "id": "68d61e7e-5630-4ef5-9fc4-daf03629a07a",
   "metadata": {},
   "outputs": [
    {
     "name": "stdout",
     "output_type": "stream",
     "text": [
      "Sales Data with Discounted Amount:\n",
      "     SaleID  CustomerID     Product  Amount  Discounted_Amount\n",
      "0       101           1      Laptop     200              180.0\n",
      "1       102           2  Smartphone     500              450.0\n",
      "2       103           3      Tablet     800              720.0\n",
      "3       104           4  Headphones    1100              990.0\n",
      "4       105           5     Monitor    1400             1260.0\n",
      "..      ...         ...         ...     ...                ...\n",
      "395     496          96      Laptop     200              180.0\n",
      "396     497          97  Smartphone     500              450.0\n",
      "397     498          98      Tablet     800              720.0\n",
      "398     499          99  Headphones    1100              990.0\n",
      "399     500         100     Monitor    1400             1260.0\n",
      "\n",
      "[400 rows x 5 columns]\n",
      "\n",
      "Total Sales by Product:\n",
      "      Product  Total_Sales\n",
      "0  Headphones      79200.0\n",
      "1      Laptop      14400.0\n",
      "2     Monitor     100800.0\n",
      "3  Smartphone      36000.0\n",
      "4      Tablet      57600.0\n"
     ]
    }
   ],
   "source": [
    "#Task_4\n",
    "\n",
    "\n",
    "# Step 1: Add a new column for the discounted amount\n",
    "datasal['Discounted_Amount'] = datasal['Amount'] * 0.9  # Apply 10% discount\n",
    "\n",
    "# Step 2: Group data by Product and calculate total sales\n",
    "grouped_sales = datasal.groupby('Product')['Discounted_Amount'].sum().reset_index()\n",
    "\n",
    "# Rename the column for better clarity\n",
    "grouped_sales.rename(columns={'Discounted_Amount': 'Total_Sales'}, inplace=True)\n",
    "\n",
    "# Step 3: Present results\n",
    "print(\"Sales Data with Discounted Amount:\")\n",
    "print(datasal)\n",
    "\n",
    "print(\"\\nTotal Sales by Product:\")\n",
    "print(grouped_sales)\n"
   ]
  },
  {
   "cell_type": "code",
   "execution_count": 127,
   "id": "ef084d6d-a6ab-4ef1-be52-bd662522e6c4",
   "metadata": {},
   "outputs": [
    {
     "name": "stdout",
     "output_type": "stream",
     "text": [
      "Filtered Customers (Age 25 to 35):\n",
      "    CustomerID  Age         City\n",
      "3            4   25      Houston\n",
      "4            5   26      Phoenix\n",
      "5            6   27     New York\n",
      "6            7   28  Los Angeles\n",
      "7            8   29      Chicago\n",
      "8            9   30      Houston\n",
      "9           10   31      Phoenix\n",
      "10          11   32     New York\n",
      "11          12   33  Los Angeles\n",
      "12          13   34      Chicago\n",
      "13          14   35      Houston\n",
      "33          34   25      Houston\n",
      "34          35   26      Phoenix\n",
      "35          36   27     New York\n",
      "36          37   28  Los Angeles\n",
      "37          38   29      Chicago\n",
      "38          39   30      Houston\n",
      "39          40   31      Phoenix\n",
      "40          41   32     New York\n",
      "41          42   33  Los Angeles\n",
      "42          43   34      Chicago\n",
      "43          44   35      Houston\n",
      "63          64   25      Houston\n",
      "64          65   26      Phoenix\n",
      "65          66   27     New York\n",
      "66          67   28  Los Angeles\n",
      "67          68   29      Chicago\n",
      "68          69   30      Houston\n",
      "69          70   31      Phoenix\n",
      "70          71   32     New York\n",
      "71          72   33  Los Angeles\n",
      "72          73   34      Chicago\n",
      "73          74   35      Houston\n",
      "93          94   25      Houston\n",
      "94          95   26      Phoenix\n",
      "95          96   27     New York\n",
      "96          97   28  Los Angeles\n",
      "97          98   29      Chicago\n",
      "98          99   30      Houston\n",
      "99         100   31      Phoenix\n",
      "\n",
      "Customer Count by City (Age 25 to 35):\n",
      "          City  Customer_Count\n",
      "0      Chicago               7\n",
      "1      Houston              11\n",
      "2  Los Angeles               7\n",
      "3     New York               7\n",
      "4      Phoenix               8\n"
     ]
    }
   ],
   "source": [
    "#Task_5\n",
    "\n",
    "# Step 1: Filter customers whose age is between 25 and 35\n",
    "filtered_df = datacus[(datacus['Age'] >= 25) & (datacus['Age'] <= 35)]\n",
    "\n",
    "# Step 2: Group the data by City and count the number of customers in each city\n",
    "city_counts = filtered_df.groupby('City').size().reset_index(name='Customer_Count')\n",
    "\n",
    "# Step 3: Save the filtered data in a new structure (DataFrame)\n",
    "print(\"Filtered Customers (Age 25 to 35):\")\n",
    "print(filtered_df)\n",
    "\n",
    "print(\"\\nCustomer Count by City (Age 25 to 35):\")\n",
    "print(city_counts)\n"
   ]
  },
  {
   "cell_type": "code",
   "execution_count": 141,
   "id": "69ba8b83-4819-476f-9856-035dab05d952",
   "metadata": {},
   "outputs": [
    {
     "name": "stdout",
     "output_type": "stream",
     "text": [
      "The city with the highest total sales is Phoenix with total sales of 100800.00\n",
      "The product with the highest total sales is Monitor with total sales of 100800.00\n"
     ]
    }
   ],
   "source": [
    "#Task_6\n",
    "\n",
    "# Step 1: Merge the datasets on CustomerID\n",
    "merged_df = pd.merge(datasal, datacus, on='CustomerID')\n",
    "\n",
    "# Step 2: Identify the city that generated the highest total sales\n",
    "\n",
    "city_sales = merged_df.groupby('City')['Discounted_Amount'].sum().reset_index()\n",
    "\n",
    "# Find the city with the highest total sales\n",
    "highest_sales_city = city_sales.loc[city_sales['Discounted_Amount'].idxmax()]\n",
    "\n",
    "# Step 3: Find the product with the highest total sales\n",
    "\n",
    "product_sales = merged_df.groupby('Product')['Discounted_Amount'].sum().reset_index()\n",
    "\n",
    "# Find the product with the highest total sales\n",
    "top_product = product_sales.loc[product_sales['Discounted_Amount'].idxmax()]\n",
    "\n",
    "# Results\n",
    "print(f\"The city with the highest total sales is {highest_sales_city['City']} with total sales of {highest_sales_city['Discounted_Amount']:.2f}\")\n",
    "print(f\"The product with the highest total sales is {top_product['Product']} with total sales of {top_product['Discounted_Amount']:.2f}\")\n"
   ]
  },
  {
   "cell_type": "code",
   "execution_count": 143,
   "id": "81c4beb2-274a-4763-a2ec-7ae4ea006e40",
   "metadata": {},
   "outputs": [
    {
     "name": "stdout",
     "output_type": "stream",
     "text": [
      "Unique Cities: ['New York' 'Los Angeles' 'Chicago' 'Houston' 'Phoenix']\n",
      "Unique Products: ['Laptop' 'Smartphone' 'Tablet' 'Headphones' 'Monitor']\n",
      "\n",
      "Mean of Amount: 800.0\n",
      "Median of Amount: 800.0\n"
     ]
    }
   ],
   "source": [
    "#Task_7\n",
    "\n",
    "\n",
    "# Step 1: Merge the datasets on CustomerID\n",
    "merged_df = pd.merge(datasal, datacus, on='CustomerID')\n",
    "\n",
    "# Step 2: Display unique values in the 'City' and 'Product' columns\n",
    "unique_cities = merged_df['City'].unique()\n",
    "unique_products = merged_df['Product'].unique()\n",
    "\n",
    "# Step 3: Calculate the mean and median of the 'Amount' column\n",
    "mean_amount = merged_df['Amount'].mean()\n",
    "median_amount = merged_df['Amount'].median()\n",
    "\n",
    "# Results\n",
    "print(\"Unique Cities:\", unique_cities)\n",
    "print(\"Unique Products:\", unique_products)\n",
    "print(\"\\nMean of Amount:\", mean_amount)\n",
    "print(\"Median of Amount:\", median_amount)\n"
   ]
  },
  {
   "cell_type": "code",
   "execution_count": null,
   "id": "4f625a06-3717-4063-9e31-197a68ea59f3",
   "metadata": {},
   "outputs": [],
   "source": []
  }
 ],
 "metadata": {
  "kernelspec": {
   "display_name": "Python 3 (ipykernel)",
   "language": "python",
   "name": "python3"
  },
  "language_info": {
   "codemirror_mode": {
    "name": "ipython",
    "version": 3
   },
   "file_extension": ".py",
   "mimetype": "text/x-python",
   "name": "python",
   "nbconvert_exporter": "python",
   "pygments_lexer": "ipython3",
   "version": "3.12.4"
  }
 },
 "nbformat": 4,
 "nbformat_minor": 5
}
